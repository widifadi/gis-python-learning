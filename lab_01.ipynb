{
 "cells": [
  {
   "cell_type": "markdown",
   "id": "0",
   "metadata": {},
   "source": [
    "# Lab 1\n",
    "\n",
    "[![Open In Colab](https://colab.research.google.com/assets/colab-badge.svg)](https://colab.research.google.com/github/giswqs/geog-312/blob/main/book/labs/lab_01.ipynb)"
   ]
  },
  {
   "cell_type": "markdown",
   "id": "1",
   "metadata": {},
   "source": [
    "## Exercise 1: Variable Assignment and Basic Operations\n",
    "\n",
    "Create variables to store the following geospatial data:\n",
    "\n",
    "- The latitude and longitude of New York City: 40.7128, -74.0060.\n",
    "- The population of New York City: 8,336,817.\n",
    "- The area of New York City in square kilometers: 783.8.\n",
    "\n",
    "Perform the following tasks:\n",
    "\n",
    "1. Calculate and print the population density of New York City (population per square kilometer).\n",
    "2. Print the coordinates in the format \"Latitude: [latitude], Longitude: [longitude]\"."
   ]
  },
  {
   "cell_type": "code",
   "execution_count": 10,
   "id": "2",
   "metadata": {},
   "outputs": [
    {
     "name": "stdout",
     "output_type": "stream",
     "text": [
      "New York Density: 10636.408522582293 population per square meters\n",
      "New York Location: Latitute: 40.7128, Longitude: -74.006\n"
     ]
    }
   ],
   "source": [
    "# New York City Data\n",
    "pt = [40.7128, -74.0060]\n",
    "population = 8336817\n",
    "area = 783.8 # in sq meters\n",
    "\n",
    "# The task\n",
    "density = population / area\n",
    "print(f'New York Density: {density} population per square meters')\n",
    "print(f'New York Location: Latitute: {pt[0]}, Longitude: {pt[1]}')"
   ]
  },
  {
   "cell_type": "markdown",
   "id": "3",
   "metadata": {},
   "source": [
    "## Exercise 2: Working with Strings\n",
    "\n",
    "Create a string variable to store the name of a city, such as \"San Francisco\". Perform the following operations:\n",
    "\n",
    "1. Convert the string to lowercase and print the result.\n",
    "2. Convert the string to uppercase and print the result.\n",
    "3. Replace \"San\" with \"Los\" in the city name and print the new string."
   ]
  },
  {
   "cell_type": "code",
   "execution_count": 11,
   "id": "4",
   "metadata": {},
   "outputs": [
    {
     "name": "stdout",
     "output_type": "stream",
     "text": [
      "san francisco\n",
      "SAN FRANCISCO\n",
      "Los Francisco\n"
     ]
    }
   ],
   "source": [
    "city = \"San Francisco\"\n",
    "\n",
    "# The task\n",
    "print(city.lower())\n",
    "print(city.upper())\n",
    "print(city.replace(\"San\", \"Los\"))"
   ]
  },
  {
   "cell_type": "markdown",
   "id": "5",
   "metadata": {},
   "source": [
    "## Exercise 3: Using Lists\n",
    "\n",
    "Create a list of tuples, where each tuple contains the name of a city and its corresponding latitude and longitude:\n",
    "\n",
    "- New York City: (40.7128, -74.0060)\n",
    "- Los Angeles: (34.0522, -118.2437)\n",
    "- Chicago: (41.8781, -87.6298)\n",
    "\n",
    "Perform the following tasks:\n",
    "\n",
    "1. Add a new city (e.g., Miami: (25.7617, -80.1918)) to the list.\n",
    "2. Print the entire list of cities.\n",
    "3. Slice the list to print only the first two cities."
   ]
  },
  {
   "cell_type": "code",
   "execution_count": 12,
   "id": "6",
   "metadata": {},
   "outputs": [
    {
     "name": "stdout",
     "output_type": "stream",
     "text": [
      "[('New York City', [40.7128, -74.006]), ('Los Angeles', [34.0522, -118.2437]), ('Chicago', [41.8781, -87.6298]), ('Miami', [25.7617, -80.1918])]\n",
      "First two cities: [('New York City', [40.7128, -74.006]), ('Los Angeles', [34.0522, -118.2437])]\n"
     ]
    }
   ],
   "source": [
    "# List of tuples data\n",
    "list = [\n",
    "    ('New York City', [40.7128, -74.0060]),\n",
    "    ('Los Angeles', [34.0522, -118.2437]),\n",
    "    ('Chicago', [41.8781, -87.6298])\n",
    "]\n",
    "\n",
    "# The task\n",
    "newTup = ('Miami', [25.7617, -80.1918])\n",
    "list.append(newTup)\n",
    "\n",
    "print(list)\n",
    "print(f'First two cities: {list[:2]}')"
   ]
  },
  {
   "cell_type": "markdown",
   "id": "7",
   "metadata": {},
   "source": [
    "## Exercise 4: Using Tuples\n",
    "\n",
    "Create a tuple to store the coordinates (latitude, longitude) of the Eiffel Tower: (48.8584, 2.2945). Perform the following tasks:\n",
    "\n",
    "1. Access and print the latitude and longitude values from the tuple.\n",
    "2. Try to change the latitude value to 48.8585. What happens? Explain why."
   ]
  },
  {
   "cell_type": "code",
   "execution_count": 13,
   "id": "8",
   "metadata": {},
   "outputs": [
    {
     "name": "stdout",
     "output_type": "stream",
     "text": [
      "Lat: 48.8584, Lon: 2.2945\n",
      "Tupple value cannot be changed\n"
     ]
    }
   ],
   "source": [
    "tup = (48.8584, 2.2945)\n",
    "print(f'Lat: {tup[0]}, Lon: {tup[1]}')\n",
    "\n",
    "# The task\n",
    "# tup[0] = 48.8585\n",
    "print(\"Tupple value cannot be changed\")"
   ]
  },
  {
   "cell_type": "markdown",
   "id": "9",
   "metadata": {},
   "source": [
    "## Exercise 5: Working with Sets\n",
    "\n",
    "Create a set of countries you have visited, such as {\"USA\", \"France\", \"Germany\"}. Perform the following tasks:\n",
    "\n",
    "1. Add a new country to the set.\n",
    "2. Try to add the same country again. What happens?\n",
    "3. Print the updated set."
   ]
  },
  {
   "cell_type": "code",
   "execution_count": 14,
   "id": "10",
   "metadata": {},
   "outputs": [
    {
     "name": "stdout",
     "output_type": "stream",
     "text": [
      "{'USA', 'Indonesia', 'Germany', 'France'}\n",
      "{'USA', 'Indonesia', 'Germany', 'France'}\n",
      "Set is unordered, unchangeable value, and can't store similar value\n"
     ]
    }
   ],
   "source": [
    "set = {\"USA\", \"France\", \"Germany\"}\n",
    "\n",
    "# Add new country to the set\n",
    "set.add(\"Indonesia\")\n",
    "print(set)\n",
    "\n",
    "# Add new country with the same name\n",
    "set.add(\"USA\")\n",
    "print(set)\n",
    "print(\"Set is unordered, unchangeable value, and can't store similar value\")"
   ]
  },
  {
   "cell_type": "markdown",
   "id": "11",
   "metadata": {},
   "source": [
    "## Exercise 6: Working with Dictionaries\n",
    "\n",
    "Create a dictionary to store information about a specific geospatial feature, such as a river:\n",
    "\n",
    "- Name: \"Amazon River\"\n",
    "- Length: 6400 km\n",
    "- Countries: [\"Brazil\", \"Peru\", \"Colombia\"]\n",
    "\n",
    "Perform the following tasks:\n",
    "\n",
    "1. Add a new key-value pair to the dictionary to store the river's average discharge (e.g., 209,000 m³/s).\n",
    "2. Update the length of the river to 6992 km.\n",
    "3. Print the dictionary."
   ]
  },
  {
   "cell_type": "code",
   "execution_count": 15,
   "id": "12",
   "metadata": {},
   "outputs": [
    {
     "name": "stdout",
     "output_type": "stream",
     "text": [
      "{'Name': 'Amazon River', 'Length': 6992, 'Countries': ['Brazil', 'Peru', 'Columbia'], 'Discharge': 209000}\n"
     ]
    }
   ],
   "source": [
    "dict_river = {\n",
    "    \"Name\" : \"Amazon River\", \n",
    "    \"Length\": 6400,\n",
    "    \"Countries\" : [\"Brazil\", \"Peru\", \"Columbia\"]\n",
    "}\n",
    "\n",
    "# The task\n",
    "dict_river[\"Discharge\"] = 209000\n",
    "dict_river[\"Length\"] = 6992\n",
    "print(dict_river)"
   ]
  },
  {
   "cell_type": "markdown",
   "id": "13",
   "metadata": {},
   "source": [
    "## Exercise 7: Nested Data Structures\n",
    "\n",
    "Create a dictionary to represent a city that contains the city's name, population, and coordinates (latitude, longitude):\n",
    "\n",
    "- Name: \"Tokyo\"\n",
    "- Population: 13,515,271\n",
    "- Coordinates: (35.6895, 139.6917)\n",
    "\n",
    "Perform the following tasks:\n",
    "\n",
    "1. Access and print the population of the city.\n",
    "2. Access and print the city's latitude.\n",
    "3. Update the population to 14,000,000 and print the updated dictionary."
   ]
  },
  {
   "cell_type": "code",
   "execution_count": 16,
   "id": "14",
   "metadata": {},
   "outputs": [
    {
     "name": "stdout",
     "output_type": "stream",
     "text": [
      "Tokyo Population: 13515271\n",
      "Tokyo Latitude: 35.6895\n",
      "{'Tokyo': {'population': 14000000, 'coordinates': (35.6895, 139.6917)}}\n"
     ]
    }
   ],
   "source": [
    "nest = {\n",
    "    \"Tokyo\" : {\n",
    "        \"population\" : 13515271,\n",
    "        \"coordinates\" : (35.6895, 139.6917)\n",
    "    }\n",
    "}\n",
    "\n",
    "# The task\n",
    "for city in nest:\n",
    "    print(f'{city} Population: {nest[city][\"population\"]}')\n",
    "    print(f'{city} Latitude: {nest[city][\"coordinates\"][0]}')\n",
    "\n",
    "nest[\"Tokyo\"][\"population\"] = 14000000\n",
    "print(nest)"
   ]
  },
  {
   "cell_type": "markdown",
   "id": "15",
   "metadata": {},
   "source": [
    "## Exercise 8: List Operations\n",
    "\n",
    "Given the list of cities from Exercise 3, perform the following operations:\n",
    "\n",
    "1. Sort the list of cities alphabetically by name.\n",
    "2. Create a new list that contains only the city names.\n",
    "3. Remove the last city from the original list and print the updated list."
   ]
  },
  {
   "cell_type": "code",
   "execution_count": 17,
   "id": "16",
   "metadata": {},
   "outputs": [
    {
     "name": "stdout",
     "output_type": "stream",
     "text": [
      "[('Chicago', [41.8781, -87.6298]), ('Los Angeles', [34.0522, -118.2437]), ('Miami', [25.7617, -80.1918]), ('New York City', [40.7128, -74.006])] \n",
      "\n",
      "['Chicago', 'Los Angeles', 'Miami', 'New York City'] \n",
      "\n",
      "Removed value: ('New York City', [40.7128, -74.006])\n",
      "New list: [('Chicago', [41.8781, -87.6298]), ('Los Angeles', [34.0522, -118.2437]), ('Miami', [25.7617, -80.1918])]\n"
     ]
    }
   ],
   "source": [
    "# The task\n",
    "list.sort()\n",
    "print(f'{list} \\n')\n",
    "\n",
    "# list2 = []\n",
    "# for item in list:\n",
    "#     list2.append(item[0])\n",
    "\n",
    "list2 = [item[0] for item in list]\n",
    "print(f'{list2} \\n')\n",
    "\n",
    "# del list[3]\n",
    "rem_val = list.pop()\n",
    "print(f'Removed value: {rem_val}') \n",
    "# Wierd behavior when print(f'{list.pop()}') why?\n",
    "print(f'New list: {list}')"
   ]
  },
  {
   "cell_type": "markdown",
   "id": "17",
   "metadata": {},
   "source": [
    "## Exercise 9: Dictionary Operations\n",
    "\n",
    "Using the dictionary from Exercise 6, perform the following tasks:\n",
    "\n",
    "1. Check if the key \"Length\" exists in the dictionary.\n",
    "2. Print all the keys in the dictionary.\n",
    "3. Print all the values in the dictionary."
   ]
  },
  {
   "cell_type": "code",
   "execution_count": 18,
   "id": "18",
   "metadata": {},
   "outputs": [
    {
     "name": "stdout",
     "output_type": "stream",
     "text": [
      "Dictionary length: 4\n",
      "Dictionary Keys: dict_keys(['Name', 'Length', 'Countries', 'Discharge'])\n",
      "Dictionary Values: dict_values(['Amazon River', 6992, ['Brazil', 'Peru', 'Columbia'], 209000])\n"
     ]
    }
   ],
   "source": [
    "# The task\n",
    "print(f'Dictionary length: {len(dict_river)}')\n",
    "print(f'Dictionary Keys: {dict_river.keys()}')\n",
    "print(f'Dictionary Values: {dict_river.values()}')"
   ]
  },
  {
   "cell_type": "markdown",
   "id": "19",
   "metadata": {},
   "source": [
    "## Exercise 10: Practical Application\n",
    "\n",
    "Imagine you have a list of tuples, each representing a location with its name, latitude, and longitude:"
   ]
  },
  {
   "cell_type": "code",
   "execution_count": 19,
   "id": "20",
   "metadata": {},
   "outputs": [],
   "source": [
    "locations = [\n",
    "    (\"Mount Everest\", 27.9881, 86.9250),\n",
    "    (\"K2\", 35.8808, 76.5155),\n",
    "    (\"Kangchenjunga\", 27.7025, 88.1475),\n",
    "]"
   ]
  },
  {
   "cell_type": "markdown",
   "id": "21",
   "metadata": {},
   "source": [
    "Perform the following tasks:\n",
    "\n",
    "1. Create a new list that contains only the names of the locations.\n",
    "2. Create a dictionary where the keys are location names and the values are tuples of their coordinates.\n",
    "3. Print the latitude of \"K2\" using the dictionary."
   ]
  },
  {
   "cell_type": "code",
   "execution_count": 22,
   "id": "22",
   "metadata": {},
   "outputs": [
    {
     "name": "stdout",
     "output_type": "stream",
     "text": [
      "New List: ['Mount Everest', 'K2', 'Kangchenjunga']\n",
      "K2 latitude: (35.8808, 76.5155)\n"
     ]
    }
   ],
   "source": [
    "# New list contains the names of the locations\n",
    "names = [item[0] for item in locations]\n",
    "print(f'New List: {names}')\n",
    "\n",
    "# dic_locs = dict(locations) # Will raise error\n",
    "dic_locs = {}\n",
    "for item in locations:\n",
    "    dic_locs[item[0]] = (item[1], item[2])\n",
    "\n",
    "print(f'K2 latitude: {dic_locs[\"K2\"]}')"
   ]
  }
 ],
 "metadata": {
  "kernelspec": {
   "display_name": "Python 3",
   "language": "python",
   "name": "python3"
  },
  "language_info": {
   "codemirror_mode": {
    "name": "ipython",
    "version": 3
   },
   "file_extension": ".py",
   "mimetype": "text/x-python",
   "name": "python",
   "nbconvert_exporter": "python",
   "pygments_lexer": "ipython3",
   "version": "3.10.17"
  }
 },
 "nbformat": 4,
 "nbformat_minor": 5
}
