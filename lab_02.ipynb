{
 "cells": [
  {
   "cell_type": "markdown",
   "id": "0",
   "metadata": {},
   "source": [
    "# Lab 2\n",
    "\n",
    "[![Open In Colab](https://colab.research.google.com/assets/colab-badge.svg)](https://colab.research.google.com/github/giswqs/geog-312/blob/main/book/labs/lab_02.ipynb)\n",
    "\n",
    "This notebook contains exercises based on the lectures on [**String Operations**](https://geog-312.gishub.org/book/python/04_string_operations.html) and [**Looping and Control Statements**](https://geog-312.gishub.org/book/python/05_looping.html). These exercises will help reinforce the concepts of string manipulation, loops, and conditionals in geospatial contexts."
   ]
  },
  {
   "cell_type": "markdown",
   "id": "1",
   "metadata": {},
   "source": [
    "## Exercise 1: Manipulating Geographic Location Strings\n",
    "\n",
    "- Create a string that represents the name of a geographic feature (e.g., `\"Amazon River\"`).\n",
    "- Convert the string to lowercase and then to uppercase.\n",
    "- Concatenate the string with the name of the country (e.g., `\"Brazil\"`) to create a full location name.\n",
    "- Repeat the string three times, separating each repetition with a dash (`-`)."
   ]
  },
  {
   "cell_type": "code",
   "execution_count": 26,
   "id": "2",
   "metadata": {},
   "outputs": [
    {
     "name": "stdout",
     "output_type": "stream",
     "text": [
      "amazon river\n",
      "AMAZON RIVER\n",
      "Amazon River, Brazil\n",
      "Amazon River, Brazil - Amazon River, Brazil - Amazon River, Brazil\n"
     ]
    }
   ],
   "source": [
    "river_name = \"Amazon River\"\n",
    "print(river_name.lower())\n",
    "print(river_name.upper())\n",
    "\n",
    "country_name = \"Brazil\"\n",
    "full_location = f'{river_name}, {country_name}'\n",
    "print(full_location)\n",
    "\n",
    "repeated = \" - \".join([full_location] * 3)\n",
    "print(repeated)"
   ]
  },
  {
   "cell_type": "markdown",
   "id": "3",
   "metadata": {},
   "source": [
    "## Exercise 2: Extracting and Formatting Coordinates\n",
    "\n",
    "- Given a string with the format `\"latitude, longitude\"` (e.g., `\"40.7128N, 74.0060W\"`), extract the numeric values of latitude and longitude.\n",
    "- Convert these values to floats and remove the directional indicators (`N`, `S`, `E`, `W`).\n",
    "- Format the coordinates into a `POINT` WKT string (e.g., `\"POINT(-74.0060 40.7128)\"`)."
   ]
  },
  {
   "cell_type": "code",
   "execution_count": 28,
   "id": "4",
   "metadata": {},
   "outputs": [
    {
     "name": "stdout",
     "output_type": "stream",
     "text": [
      "POINT(40.7128 74.006)\n"
     ]
    }
   ],
   "source": [
    "coordinate = \"40.7128N, 74.0060W\"\n",
    "lat_str, lon_str = coordinate.split(',')\n",
    "latitude = float(lat_str[:-1])\n",
    "longitude = float(lon_str[:-1])\n",
    "\n",
    "formatted = f'POINT({latitude} {longitude})'\n",
    "print(formatted)"
   ]
  },
  {
   "cell_type": "markdown",
   "id": "5",
   "metadata": {},
   "source": [
    "## Exercise 3: Building Dynamic SQL Queries\n",
    "\n",
    "- Given a table name and a condition, dynamically build an SQL query string.\n",
    "- Example: If `table_name = \"cities\"` and `condition = \"population > 1000000\"`, the query should be `\"SELECT * FROM cities WHERE population > 1000000;\"`.\n",
    "- Add additional conditions dynamically, like `AND` clauses."
   ]
  },
  {
   "cell_type": "code",
   "execution_count": 34,
   "id": "6",
   "metadata": {},
   "outputs": [
    {
     "name": "stdout",
     "output_type": "stream",
     "text": [
      "SELECT * FROM cities WHERE population > 1000000;\n",
      "SELECT * FROM cities WHERE population > 1000000 AND zipcode = 12345;\n",
      "SELECT * FROM cities WHERE population > 1000000 AND zipcode = 12345 AND area > 100;\n"
     ]
    }
   ],
   "source": [
    "table_name = \"cities\"\n",
    "condition = \"population > 1000000\"\n",
    "\n",
    "query = f'SELECT * FROM {table_name} WHERE {condition};'\n",
    "print(query)\n",
    "\n",
    "add_condition = \"zipcode = 12345\"\n",
    "query = f'SELECT * FROM {table_name} WHERE {condition} AND {add_condition};'\n",
    "print(query)\n",
    "\n",
    "# Other solution to point 3\n",
    "conditions = [\"population > 1000000\", \"zipcode = 12345\", \"area > 100\"]\n",
    "where_clause = \" AND \".join(conditions)\n",
    "query = f'SELECT * FROM {table_name} WHERE {where_clause};'\n",
    "print(query)"
   ]
  },
  {
   "cell_type": "markdown",
   "id": "7",
   "metadata": {},
   "source": [
    "## Exercise 4: String Normalization and Cleaning\n",
    "\n",
    "- Given a list of city names with inconsistent formatting (e.g., `[\" new york \", \"Los ANGELES\", \"   CHICAGO\"]`), normalize the names by:\n",
    "  - Stripping any leading or trailing whitespace.\n",
    "  - Converting them to title case (e.g., `\"New York\"`, `\"Los Angeles\"`, `\"Chicago\"`).\n",
    "- Ensure that the output is a clean list of city names."
   ]
  },
  {
   "cell_type": "code",
   "execution_count": 36,
   "id": "8",
   "metadata": {},
   "outputs": [
    {
     "name": "stdout",
     "output_type": "stream",
     "text": [
      "['New York', 'Los Angeles', 'Chicago']\n"
     ]
    }
   ],
   "source": [
    "city_names = [\" new york \", \"Los ANGELES\", \"   CHICAGO\"]\n",
    "formatted = [cities.strip().title() for cities in city_names]\n",
    "print(formatted)"
   ]
  },
  {
   "cell_type": "markdown",
   "id": "9",
   "metadata": {},
   "source": [
    "## Exercise 5: Parsing and Extracting Address Information\n",
    "\n",
    "- Given a string in the format `\"Street, City, Country\"` (e.g., `\"123 Main St, Springfield, USA\"`), write a function that parses the string into a dictionary with keys `street`, `city`, and `country`.\n",
    "- The function should return a dictionary like `{\"street\": \"123 Main St\", \"city\": \"Springfield\", \"country\": \"USA\"}`."
   ]
  },
  {
   "cell_type": "code",
   "execution_count": 37,
   "id": "10",
   "metadata": {},
   "outputs": [
    {
     "name": "stdout",
     "output_type": "stream",
     "text": [
      "{'street': '123 Main St', 'city': 'Springfield', 'country': 'USA'}\n"
     ]
    }
   ],
   "source": [
    "address = \"123 Main St, Springfield, USA\"\n",
    "\n",
    "def dictionaryGenerator(m_address):\n",
    "    street, city, country = m_address.split(\", \")\n",
    "    return {'street' : street, 'city' : city, 'country': country}\n",
    "\n",
    "print(dictionaryGenerator(address))"
   ]
  },
  {
   "cell_type": "markdown",
   "id": "11",
   "metadata": {},
   "source": [
    "## Exercise 6: Using For Loops to Process Coordinate Lists\n",
    "\n",
    "- Create a list of tuples representing coordinates (latitude, longitude).\n",
    "- Write a `for` loop that prints each coordinate and indicates whether it is in the Northern or Southern Hemisphere based on the latitude."
   ]
  },
  {
   "cell_type": "code",
   "execution_count": 38,
   "id": "12",
   "metadata": {},
   "outputs": [
    {
     "name": "stdout",
     "output_type": "stream",
     "text": [
      "(40.7128, -74.006) is in the Northern Hemisphere.\n",
      "(-33.8688, 151.2093) is in the Southern Hemisphere.\n",
      "(51.5074, -0.1278) is in the Northern Hemisphere.\n",
      "(-23.5505, -46.6333) is in the Southern Hemisphere.\n",
      "(35.6895, 139.6917) is in the Northern Hemisphere.\n",
      "(-1.2921, 36.8219) is in the Southern Hemisphere.\n",
      "(55.7558, 37.6173) is in the Northern Hemisphere.\n",
      "(48.8566, 2.3522) is in the Northern Hemisphere.\n",
      "(19.4326, -99.1332) is in the Northern Hemisphere.\n",
      "(-34.6037, -58.3816) is in the Southern Hemisphere.\n"
     ]
    }
   ],
   "source": [
    "coordinates = [\n",
    "    (40.7128, -74.0060),   # New York City, USA (Northern, Western)\n",
    "    (-33.8688, 151.2093),  # Sydney, Australia (Southern, Eastern)\n",
    "    (51.5074, -0.1278),    # London, UK (Northern, Western)\n",
    "    (-23.5505, -46.6333),  # São Paulo, Brazil (Southern, Western)\n",
    "    (35.6895, 139.6917),   # Tokyo, Japan (Northern, Eastern)\n",
    "    (-1.2921, 36.8219),    # Nairobi, Kenya (Southern, Eastern)\n",
    "    (55.7558, 37.6173),    # Moscow, Russia (Northern, Eastern)\n",
    "    (48.8566, 2.3522),     # Paris, France (Northern, Eastern)\n",
    "    (19.4326, -99.1332),   # Mexico City, Mexico (Northern, Western)\n",
    "    (-34.6037, -58.3816)   # Buenos Aires, Argentina (Southern, Western)\n",
    "]\n",
    "\n",
    "# Northern and Southern Hemisphere is determined using latitude value:\n",
    "for coordinate in coordinates:\n",
    "    if (coordinate[0] > 0):\n",
    "        print(f'{coordinate} is in the Northern Hemisphere.')\n",
    "    elif (coordinate[0] < 0):\n",
    "        print(f'{coordinate} is in the Southern Hemisphere.')\n",
    "    else:\n",
    "        print(f'{coordinate} is at the Equator.')"
   ]
  },
  {
   "cell_type": "markdown",
   "id": "13",
   "metadata": {},
   "source": [
    "## Exercise 7: While Loops for Iterative Processing\n",
    "\n",
    "- Create a list of coordinates (latitude, longitude).\n",
    "- Write a `while` loop that continues to print each coordinate until it encounters a coordinate with a negative latitude.\n",
    "- Stop the loop once this condition is met."
   ]
  },
  {
   "cell_type": "code",
   "execution_count": 40,
   "id": "14",
   "metadata": {},
   "outputs": [
    {
     "name": "stdout",
     "output_type": "stream",
     "text": [
      "(55.7558, 37.6173)\n",
      "(48.8566, 2.3522)\n",
      "(40.7128, -74.006)\n"
     ]
    }
   ],
   "source": [
    "coordinates = [\n",
    "    (55.7558, 37.6173),    # Moscow, Russia (Northern, Eastern)\n",
    "    (48.8566, 2.3522),     # Paris, France (Northern, Eastern)\n",
    "    (40.7128, -74.0060),   # New York City, USA (Northern, Western)\n",
    "    (-33.8688, 151.2093),  # Sydney, Australia (Southern, Eastern)\n",
    "    (51.5074, -0.1278),    # London, UK (Northern, Western)\n",
    "    (-23.5505, -46.6333),  # São Paulo, Brazil (Southern, Western)\n",
    "    (35.6895, 139.6917),   # Tokyo, Japan (Northern, Eastern)\n",
    "    (-1.2921, 36.8219),    # Nairobi, Kenya (Southern, Eastern)\n",
    "    (19.4326, -99.1332),   # Mexico City, Mexico (Northern, Western)\n",
    "    (-34.6037, -58.3816)   # Buenos Aires, Argentina (Southern, Western)\n",
    "]\n",
    "\n",
    "i = 0\n",
    "while i < len(coordinates):\n",
    "    if (coordinates[i][0] < 0):\n",
    "        break\n",
    "    print(coordinates[i])\n",
    "    i += 1"
   ]
  },
  {
   "cell_type": "markdown",
   "id": "15",
   "metadata": {},
   "source": [
    "## Exercise 8: Conditional Logic in Loops\n",
    "\n",
    "- Create a list of coordinates and use a `for` loop to iterate over them.\n",
    "- Use an `if-elif-else` statement inside the loop to classify each coordinate based on its longitude:\n",
    "  - Print `\"Eastern Hemisphere\"` if the longitude is greater than 0.\n",
    "  - Print `\"Western Hemisphere\"` if the longitude is less than 0."
   ]
  },
  {
   "cell_type": "code",
   "execution_count": 42,
   "id": "16",
   "metadata": {},
   "outputs": [
    {
     "name": "stdout",
     "output_type": "stream",
     "text": [
      "Eastern Hemisphere.\n",
      "Eastern Hemisphere.\n",
      "Western Hemisphere.\n",
      "Eastern Hemisphere.\n",
      "Western Hemisphere.\n",
      "Western Hemisphere.\n",
      "Eastern Hemisphere.\n",
      "Eastern Hemisphere.\n",
      "Western Hemisphere.\n",
      "Western Hemisphere.\n"
     ]
    }
   ],
   "source": [
    "coordinates = [\n",
    "    (55.7558, 37.6173),    # Moscow, Russia (Northern, Eastern)\n",
    "    (48.8566, 2.3522),     # Paris, France (Northern, Eastern)\n",
    "    (40.7128, -74.0060),   # New York City, USA (Northern, Western)\n",
    "    (-33.8688, 151.2093),  # Sydney, Australia (Southern, Eastern)\n",
    "    (51.5074, -0.1278),    # London, UK (Northern, Western)\n",
    "    (-23.5505, -46.6333),  # São Paulo, Brazil (Southern, Western)\n",
    "    (35.6895, 139.6917),   # Tokyo, Japan (Northern, Eastern)\n",
    "    (-1.2921, 36.8219),    # Nairobi, Kenya (Southern, Eastern)\n",
    "    (19.4326, -99.1332),   # Mexico City, Mexico (Northern, Western)\n",
    "    (-34.6037, -58.3816)   # Buenos Aires, Argentina (Southern, Western)\n",
    "]\n",
    "\n",
    "# Eastern and Western Hemisphere is determined using longitude value:\n",
    "for coordinate in coordinates:\n",
    "    if (coordinate[1] > 0):\n",
    "        print('Eastern Hemisphere.')\n",
    "    else:\n",
    "        print('Western Hemisphere.')"
   ]
  },
  {
   "cell_type": "markdown",
   "id": "17",
   "metadata": {},
   "source": [
    "## Exercise 9: Filtering Data with Combined Loops and Conditionals\n",
    "\n",
    "- Given a list of coordinates, filter out and store only those located in the Southern Hemisphere (latitude < 0).\n",
    "- Count the number of coordinates that meet this condition and print the result."
   ]
  },
  {
   "cell_type": "code",
   "execution_count": 45,
   "id": "18",
   "metadata": {},
   "outputs": [
    {
     "name": "stdout",
     "output_type": "stream",
     "text": [
      "4\n",
      "4\n"
     ]
    }
   ],
   "source": [
    "coordinates = [\n",
    "    (55.7558, 37.6173),    # Moscow, Russia (Northern, Eastern)\n",
    "    (48.8566, 2.3522),     # Paris, France (Northern, Eastern)\n",
    "    (40.7128, -74.0060),   # New York City, USA (Northern, Western)\n",
    "    (-33.8688, 151.2093),  # Sydney, Australia (Southern, Eastern)\n",
    "    (51.5074, -0.1278),    # London, UK (Northern, Western)\n",
    "    (-23.5505, -46.6333),  # São Paulo, Brazil (Southern, Western)\n",
    "    (35.6895, 139.6917),   # Tokyo, Japan (Northern, Eastern)\n",
    "    (-1.2921, 36.8219),    # Nairobi, Kenya (Southern, Eastern)\n",
    "    (19.4326, -99.1332),   # Mexico City, Mexico (Northern, Western)\n",
    "    (-34.6037, -58.3816)   # Buenos Aires, Argentina (Southern, Western)\n",
    "]\n",
    "\n",
    "south_coordinates = []\n",
    "for coordinate in coordinates:\n",
    "    if (coordinate[0] < 0):\n",
    "        south_coordinates.append(coordinate)\n",
    "\n",
    "print(len(south_coordinates))\n",
    "\n",
    "# OR\n",
    "counter = 0\n",
    "for coordinate in coordinates:\n",
    "    if (coordinate[0] < 0):\n",
    "        counter += 1\n",
    "\n",
    "print(counter)"
   ]
  },
  {
   "cell_type": "markdown",
   "id": "19",
   "metadata": {},
   "source": [
    "## Exercise 10: Generating and Analyzing Random Coordinates\n",
    "\n",
    "- Write a program that generates random coordinates (latitude between [-90, 90] degrees and longitude between [-180, 180] degrees).\n",
    "- Use a `while` loop to keep generating coordinates until a pair with both latitude and longitude greater than 50 is generated.\n",
    "- Print each generated coordinate and the final coordinate that meets the condition."
   ]
  },
  {
   "cell_type": "code",
   "execution_count": 54,
   "id": "20",
   "metadata": {},
   "outputs": [
    {
     "name": "stdout",
     "output_type": "stream",
     "text": [
      "(-88, -14)\n",
      "(9, -153)\n",
      "(-52, 133)\n",
      "(49, -62)\n",
      "(-42, -84)\n",
      "(-69, 107)\n",
      "(63, 92)\n"
     ]
    }
   ],
   "source": [
    "import random\n",
    "\n",
    "def coordinateGenerator():\n",
    "    coordinate = (0, 0)\n",
    "    while i < i + 1:\n",
    "        coordinate = (random.randrange(-90, 90), random.randrange(-180, 180))\n",
    "        print(coordinate)\n",
    "        if (coordinate[0] > 50 and coordinate[1] > 50):\n",
    "            break\n",
    "\n",
    "coordinateGenerator()"
   ]
  }
 ],
 "metadata": {
  "kernelspec": {
   "display_name": "Python 3",
   "language": "python",
   "name": "python3"
  },
  "language_info": {
   "codemirror_mode": {
    "name": "ipython",
    "version": 3
   },
   "file_extension": ".py",
   "mimetype": "text/x-python",
   "name": "python",
   "nbconvert_exporter": "python",
   "pygments_lexer": "ipython3",
   "version": "3.10.17"
  }
 },
 "nbformat": 4,
 "nbformat_minor": 5
}
