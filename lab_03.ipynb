{
 "cells": [
  {
   "cell_type": "markdown",
   "id": "0",
   "metadata": {},
   "source": [
    "# Lab 3\n",
    "\n",
    "[![Open In Colab](https://colab.research.google.com/assets/colab-badge.svg)](https://colab.research.google.com/github/giswqs/geog-312/blob/main/book/labs/lab_03.ipynb)\n",
    "\n",
    "This notebook contains exercises based on the lectures on [**Functions and Classes**](https://geog-312.gishub.org/book/python/06_functions_classes.html) and [**Files and Exception Handling**](https://geog-312.gishub.org/book/python/07_files.html). These exercises will help reinforce the concepts of functions, classes, file handling, and exception management in geospatial contexts."
   ]
  },
  {
   "cell_type": "markdown",
   "id": "1",
   "metadata": {},
   "source": [
    "## Exercise 1: Calculating Distances with Functions\n",
    "\n",
    "- Define a function `calculate_distance` that takes two geographic coordinates (latitude and longitude) and returns the distance between them using the Haversine formula.\n",
    "- Use this function to calculate the distance between multiple pairs of coordinates."
   ]
  },
  {
   "cell_type": "code",
   "execution_count": 2,
   "id": "2",
   "metadata": {},
   "outputs": [
    {
     "name": "stdout",
     "output_type": "stream",
     "text": [
      "distance ((40.7128, -74.006), (34.0522, -118.2437)): 3935.75 km\n",
      "distance ((48.8566, 2.3522), (51.5074, -0.1278)): 343.56 km\n",
      "distance ((35.6895, 139.6917), (37.7749, -122.4194)): 8270.71 km\n",
      "distance ((-33.8688, 151.2093), (-37.8136, 144.9631)): 713.43 km\n",
      "distance ((55.7558, 37.6173), (39.9042, 116.4074)): 5793.80 km\n",
      "distance ((-1.2921, 36.8219), (30.0444, 31.2357)): 3534.49 km\n",
      "distance ((19.4326, -99.1332), (-23.5505, -46.6333)): 7432.02 km\n",
      "distance ((59.3293, 18.0686), (60.1695, 24.9354)): 395.65 km\n",
      "distance ((52.52, 13.405), (41.9028, 12.4964)): 1182.55 km\n",
      "distance ((-22.9068, -43.1729), (34.0522, -118.2437)): 10143.47 km\n"
     ]
    }
   ],
   "source": [
    "import math\n",
    "\n",
    "def calculate_distance(pt1, pt2):\n",
    "    lat1, lon1 = pt1\n",
    "    lat2, lon2 = pt2\n",
    "\n",
    "    # Earth Radius\n",
    "    R = 6371.0\n",
    "\n",
    "    # Angle to radians\n",
    "    phi1 = math.radians(lat1)\n",
    "    phi2 = math.radians(lat2)\n",
    "    dphi = math.radians(lat2 - lat1)\n",
    "    dlambda = math.radians(lon2 - lon1)\n",
    "\n",
    "    # Haversine formula\n",
    "    a = math.sin(dphi / 2)**2 + math.cos(phi1) * math.cos(phi2) * math.sin(dlambda / 2)**2\n",
    "    c = 2 * math.atan2(math.sqrt(a), math.sqrt(1 - a))\n",
    "\n",
    "    # Distance in km\n",
    "    distance = R * c\n",
    "    return distance\n",
    "\n",
    "coordinates = [\n",
    "    ((40.7128, -74.0060), (34.0522, -118.2437)),  # New York City - Los Angeles\n",
    "    ((48.8566, 2.3522), (51.5074, -0.1278)),      # Paris - London\n",
    "    ((35.6895, 139.6917), (37.7749, -122.4194)),  # Tokyo - San Francisco\n",
    "    ((-33.8688, 151.2093), (-37.8136, 144.9631)), # Sydney - Melbourne\n",
    "    ((55.7558, 37.6173), (39.9042, 116.4074)),    # Moscow - Beijing\n",
    "    ((-1.2921, 36.8219), (30.0444, 31.2357)),     # Nairobi - Cairo\n",
    "    ((19.4326, -99.1332), (-23.5505, -46.6333)),  # Mexico City - São Paulo\n",
    "    ((59.3293, 18.0686), (60.1695, 24.9354)),     # Stockholm - Helsinki\n",
    "    ((52.5200, 13.4050), (41.9028, 12.4964)),     # Berlin - Rome\n",
    "    ((-22.9068, -43.1729), (34.0522, -118.2437))  # Rio de Janeiro - Los Angeles\n",
    "]\n",
    "\n",
    "for pts in coordinates:\n",
    "    print(f'distance {pts[0], pts[1]}: {calculate_distance(pts[0], pts[1]):.2f} km')"
   ]
  },
  {
   "cell_type": "markdown",
   "id": "3",
   "metadata": {},
   "source": [
    "## Exercise 2: Batch Distance Calculation\n",
    "\n",
    "- Create a function `batch_distance_calculation` that accepts a list of coordinate pairs and returns a list of distances between consecutive pairs.\n",
    "- Test the function with a list of coordinates representing several cities."
   ]
  },
  {
   "cell_type": "code",
   "execution_count": 5,
   "id": "4",
   "metadata": {},
   "outputs": [
    {
     "name": "stdout",
     "output_type": "stream",
     "text": [
      "[3935.746254609723, 343.55606034104164, 8270.714140759774, 713.4274807201247, 5793.800327997792, 3534.486740876805, 7432.0236931481795, 395.64825735091034, 1182.5461961338706, 10143.469515457193]\n"
     ]
    }
   ],
   "source": [
    "def batch_distance_calculation(coordinates):\n",
    "    dists = []\n",
    "    for coordinate in coordinates:\n",
    "        pt1 = coordinate[0]\n",
    "        pt2 = coordinate[1]\n",
    "        \n",
    "        # d = math.sqrt((pt2[0] - pt1[0])**2 + (pt2[1] - pt1[1])**2)\n",
    "        d = calculate_distance(pt1, pt2)\n",
    "        dists.append(d)\n",
    "\n",
    "    return dists\n",
    "\n",
    "coordinates = [\n",
    "    ((40.7128, -74.0060), (34.0522, -118.2437)),  # New York City - Los Angeles\n",
    "    ((48.8566, 2.3522), (51.5074, -0.1278)),      # Paris - London\n",
    "    ((35.6895, 139.6917), (37.7749, -122.4194)),  # Tokyo - San Francisco\n",
    "    ((-33.8688, 151.2093), (-37.8136, 144.9631)), # Sydney - Melbourne\n",
    "    ((55.7558, 37.6173), (39.9042, 116.4074)),    # Moscow - Beijing\n",
    "    ((-1.2921, 36.8219), (30.0444, 31.2357)),     # Nairobi - Cairo\n",
    "    ((19.4326, -99.1332), (-23.5505, -46.6333)),  # Mexico City - São Paulo\n",
    "    ((59.3293, 18.0686), (60.1695, 24.9354)),     # Stockholm - Helsinki\n",
    "    ((52.5200, 13.4050), (41.9028, 12.4964)),     # Berlin - Rome\n",
    "    ((-22.9068, -43.1729), (34.0522, -118.2437))  # Rio de Janeiro - Los Angeles\n",
    "]\n",
    "\n",
    "dists = batch_distance_calculation(coordinates)\n",
    "print(dists)"
   ]
  },
  {
   "cell_type": "markdown",
   "id": "5",
   "metadata": {},
   "source": [
    "## Exercise 3: Creating and Using a Point Class\n",
    "\n",
    "- Define a `Point` class to represent a geographic point with attributes `latitude`, `longitude`, and `name`.\n",
    "- Add a method `distance_to` that calculates the distance from one point to another.\n",
    "- Instantiate several `Point` objects and calculate the distance between them."
   ]
  },
  {
   "cell_type": "code",
   "execution_count": 6,
   "id": "6",
   "metadata": {},
   "outputs": [
    {
     "name": "stdout",
     "output_type": "stream",
     "text": [
      "Distance from Tokyo to Los Angeles: 8815.47 km\n"
     ]
    }
   ],
   "source": [
    "class Point:\n",
    "    def __init__(self, latitude, longitude, name=None):\n",
    "        self.latitude = latitude\n",
    "        self.longitude = longitude\n",
    "        self.name = name\n",
    "\n",
    "    def distance_to(self, to_pt):\n",
    "        return calculate_distance((self.latitude, self.longitude), (to_pt.latitude, to_pt.longitude))\n",
    "    \n",
    "point1 = Point(35.6895, 139.6917, \"Tokyo\")\n",
    "point2 = Point(34.0522, -118.2437, \"Los Angeles\")\n",
    "print(\n",
    "    f\"Distance from {point1.name} to {point2.name}: {point1.distance_to(point2):.2f} km\"\n",
    ")"
   ]
  },
  {
   "cell_type": "markdown",
   "id": "7",
   "metadata": {},
   "source": [
    "## Exercise 4: Reading and Writing Files\n",
    "\n",
    "- Write a function `read_coordinates` that reads a file containing a list of coordinates (latitude, longitude) and returns them as a list of tuples.\n",
    "- Write another function `write_coordinates` that takes a list of coordinates and writes them to a new file.\n",
    "- Ensure that both functions handle exceptions, such as missing files or improperly formatted data."
   ]
  },
  {
   "cell_type": "code",
   "execution_count": 9,
   "id": "8",
   "metadata": {},
   "outputs": [
    {
     "name": "stdout",
     "output_type": "stream",
     "text": [
      "Coordinates are written to out_coordinate.txt\n"
     ]
    }
   ],
   "source": [
    "def read_coordinates(fileName):\n",
    "    try:\n",
    "        with open(fileName) as inFile:\n",
    "            coordinates = inFile.readlines()\n",
    "            return coordinates\n",
    "    except FileNotFoundError:\n",
    "        print(f'Error: {fileName} not found.')\n",
    "        return None\n",
    "\n",
    "def write_coordinates(fileName, coordinates):\n",
    "    try:\n",
    "        with open(fileName, 'w') as outFile:\n",
    "            for line in coordinates:\n",
    "                lat, lon = line.strip().split(\",\")\n",
    "                lat = float(lat)\n",
    "                lon = float(lon)\n",
    "\n",
    "                outFile.write(f'Lat: {lat}, Lon: {lon} \\n')\n",
    "        print(f'Coordinates are written to {fileName}')\n",
    "\n",
    "    except ValueError as e:\n",
    "        print(f'Error: {e}. Could not parse line: {line.strip()}')\n",
    "\n",
    "    except Exception as e:\n",
    "        print(f'An unexpected error occured: {e}')\n",
    "\n",
    "coordinates = read_coordinates(\"coordinates.txt\")\n",
    "write_coordinates(\"out_coordinate.txt\", coordinates)"
   ]
  },
  {
   "cell_type": "markdown",
   "id": "9",
   "metadata": {},
   "source": [
    "## Exercise 5: Processing Coordinates from a File\n",
    "\n",
    "- Create a function that reads coordinates from a file and uses the `Point` class to create `Point` objects.\n",
    "- Calculate the distance between each consecutive pair of points and write the results to a new file.\n",
    "- Ensure the function handles file-related exceptions and gracefully handles improperly formatted lines."
   ]
  },
  {
   "cell_type": "code",
   "execution_count": 10,
   "id": "10",
   "metadata": {},
   "outputs": [
    {
     "name": "stdout",
     "output_type": "stream",
     "text": [
      "Sample file 'coordinates.txt' has been created successfully.\n"
     ]
    }
   ],
   "source": [
    "# Create a sample coordinates.txt file\n",
    "sample_data = \"\"\"35.6895,139.6917\n",
    "34.0522,-118.2437\n",
    "51.5074,-0.1278\n",
    "-33.8688,151.2093\n",
    "48.8566,2.3522\"\"\"\n",
    "\n",
    "output_file = \"coordinates.txt\"\n",
    "\n",
    "try:\n",
    "    with open(output_file, \"w\") as file:\n",
    "        file.write(sample_data)\n",
    "    print(f\"Sample file '{output_file}' has been created successfully.\")\n",
    "except Exception as e:\n",
    "    print(f\"An error occurred while creating the file: {e}\")"
   ]
  },
  {
   "cell_type": "code",
   "execution_count": 14,
   "id": "11",
   "metadata": {},
   "outputs": [
    {
     "name": "stdout",
     "output_type": "stream",
     "text": [
      "Coordinates are written to out_dists.txt\n"
     ]
    }
   ],
   "source": [
    "def write_distance(fileIn, fileOut):\n",
    "    outs = []\n",
    "    try:\n",
    "        with open(fileIn) as inFile:\n",
    "            coordinates = inFile.readlines()\n",
    "            for i in range(len(coordinates) - 1):\n",
    "                lat1, lon1 = coordinates[i].strip().split(\",\")\n",
    "                pt1 = Point(float(lat1), float(lon1))\n",
    "\n",
    "                lat2, lon2 = coordinates[i + 1].strip().split(\",\")\n",
    "                pt2 = Point(float(lat2), float(lon2))\n",
    "\n",
    "                out = f\"Distance from {pt1.latitude, pt1.longitude} to {pt2.latitude, pt2.longitude}: {pt1.distance_to(pt2):.2f} km\"\n",
    "                outs.append(out)\n",
    "\n",
    "        if (outs != []):\n",
    "            with open(fileOut, 'w') as outFile:\n",
    "                for out in outs:\n",
    "                    outFile.write(out + '\\n')\n",
    "            print(f'Coordinates are written to {fileOut}')\n",
    "        else:\n",
    "            print(f'No outputs.')\n",
    "\n",
    "    except FileNotFoundError:\n",
    "        print(f'Error: {fileIn} not found.')\n",
    "\n",
    "    except ValueError as e:\n",
    "        print(f'Error: {e}. Could not parse line: {coordinates[i].strip()}')\n",
    "    \n",
    "    except Exception as e:\n",
    "        print(f\"An error occurred while creating the file: {e}\")\n",
    "\n",
    "write_distance(\"coordinates.txt\", \"out_dists.txt\")"
   ]
  },
  {
   "cell_type": "markdown",
   "id": "12",
   "metadata": {},
   "source": [
    "## Exercise 6: Exception Handling in Data Processing\n",
    "\n",
    "- Modify the `batch_distance_calculation` function to handle exceptions that might occur during the calculation, such as invalid coordinates.\n",
    "- Ensure the function skips invalid data and continues processing the remaining data."
   ]
  },
  {
   "cell_type": "code",
   "execution_count": 23,
   "id": "13",
   "metadata": {},
   "outputs": [
    {
     "name": "stdout",
     "output_type": "stream",
     "text": [
      "Error: unsupported operand type(s) for -: 'str' and 'float'. Could not get coordinate: ((55.7558, 37.6173), (39.9042, '116.4074'))\n",
      "Error: cannot unpack non-iterable float object. Could not get coordinate: ((-1.2921, 36.8219), 30.0444)\n",
      "[3935.746254609723, 343.55606034104164, 8270.714140759774, 713.4274807201247, 7432.0236931481795, 395.64825735091034, 1182.5461961338706, 10143.469515457193]\n"
     ]
    }
   ],
   "source": [
    "def batch_distance_calculation(coordinates):\n",
    "    dists = []        \n",
    "    for coordinate in coordinates:\n",
    "        try:\n",
    "            if (len(coordinate) != 2):\n",
    "                continue\n",
    "\n",
    "            pt1, pt2 = coordinate\n",
    "            \n",
    "            # d = math.sqrt((pt2[0] - pt1[0])**2 + (pt2[1] - pt1[1])**2)\n",
    "            d = calculate_distance(pt1, pt2)\n",
    "            dists.append(d)\n",
    "            \n",
    "        except ValueError as e:\n",
    "            print(f'Error: {e}. Could not get coordinate: {coordinate}')\n",
    "        except TypeError as e:\n",
    "            print(f'Error: {e}. Could not get coordinate: {coordinate}')\n",
    "        except Exception as e:\n",
    "            print(f\"An error occurred: {e}\")\n",
    "\n",
    "    return dists\n",
    "\n",
    "\n",
    "coordinates = [\n",
    "    ((40.7128, -74.0060), (34.0522, -118.2437)),  # New York City - Los Angeles\n",
    "    ((48.8566, 2.3522), (51.5074, -0.1278)),      # Paris - London\n",
    "    ((35.6895, 139.6917), (37.7749, -122.4194)),  # Tokyo - San Francisco\n",
    "    ((-33.8688, 151.2093), (-37.8136, 144.9631)), # Sydney - Melbourne\n",
    "    ((55.7558, 37.6173), (39.9042, \"116.4074\")),    # Moscow - Beijing\n",
    "    ((-1.2921, 36.8219), (30.0444)),     # Nairobi - Cairo\n",
    "    ((19.4326, -99.1332), (-23.5505, -46.6333)),  # Mexico City - São Paulo\n",
    "    ((59.3293, 18.0686), (60.1695, 24.9354)),     # Stockholm - Helsinki\n",
    "    ((52.5200, 13.4050), (41.9028, 12.4964)),     # Berlin - Rome\n",
    "    ((-22.9068, -43.1729), (34.0522, -118.2437))  # Rio de Janeiro - Los Angeles\n",
    "]\n",
    "\n",
    "dists = batch_distance_calculation(coordinates)\n",
    "print(dists)"
   ]
  }
 ],
 "metadata": {
  "kernelspec": {
   "display_name": "Python 3",
   "language": "python",
   "name": "python3"
  },
  "language_info": {
   "codemirror_mode": {
    "name": "ipython",
    "version": 3
   },
   "file_extension": ".py",
   "mimetype": "text/x-python",
   "name": "python",
   "nbconvert_exporter": "python",
   "pygments_lexer": "ipython3",
   "version": "3.10.17"
  }
 },
 "nbformat": 4,
 "nbformat_minor": 5
}
